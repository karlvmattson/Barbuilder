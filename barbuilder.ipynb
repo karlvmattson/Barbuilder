{
 "cells": [
  {
   "cell_type": "markdown",
   "id": "0089f082-912c-4df7-a007-6c873dfbf619",
   "metadata": {
    "jp-MarkdownHeadingCollapsed": true,
    "tags": []
   },
   "source": [
    "# Barbuilder\n",
    "## An Interactive Cocktail Ingredient Recommendation System"
   ]
  },
  {
   "cell_type": "markdown",
   "id": "45cee977-1341-4ce9-8e94-b3fb8eed2b62",
   "metadata": {
    "jp-MarkdownHeadingCollapsed": true,
    "tags": []
   },
   "source": [
    "### Set Up System"
   ]
  },
  {
   "cell_type": "code",
   "execution_count": 104,
   "id": "449be6ba-dc47-4056-9f01-d1c36430fb77",
   "metadata": {
    "tags": []
   },
   "outputs": [],
   "source": [
    "# imports\n",
    "\n",
    "import base64\n",
    "from bitarray import bitarray\n",
    "import csv\n",
    "import io\n",
    "import ipywidgets as widgets\n",
    "import matplotlib.pyplot as plt\n",
    "import numpy as np\n",
    "import pandas as pd\n",
    "from pathlib import Path\n",
    "import pickle\n",
    "import plotly.express as px\n",
    "import urllib\n",
    "from wordcloud import WordCloud"
   ]
  },
  {
   "cell_type": "code",
   "execution_count": 105,
   "id": "886ea60b-8509-4ab4-be88-65401a9999c5",
   "metadata": {
    "tags": []
   },
   "outputs": [],
   "source": [
    "# locations for file imports\n",
    "\n",
    "processed_data = Path.cwd() / 'processed' / 'cosine_matrix.pickle'\n",
    "ingredient_data = Path.cwd() / 'processed' / 'ingredient_dict.pickle'\n",
    "recipe_data = Path.cwd() / 'processed' / 'recipe_dict.pickle'"
   ]
  },
  {
   "cell_type": "code",
   "execution_count": 106,
   "id": "fe815dae-6eb7-440c-bcdd-1e9cbc6a2dc4",
   "metadata": {
    "tags": []
   },
   "outputs": [],
   "source": [
    "# load Data (Generate data if not found, can take several minutes on first run to download raw files)\n",
    "\n",
    "# check if data already generated. If not, run data_processing.ipynb.\n",
    "try:\n",
    "    open(processed_data, mode='r', encoding='utf-8')\n",
    "    open(ingredient_data, mode='r', encoding='utf-8')\n",
    "except FileNotFoundError as err:\n",
    "    %run ./data_processing.ipynb\n",
    "\n",
    "#  load the data files\n",
    "with open(processed_data,'rb') as modelFile:\n",
    "     df_sims = pickle.load(modelFile)\n",
    "with open(ingredient_data,'rb') as modelFile:\n",
    "     df_ingredients = pickle.load(modelFile)\n",
    "with open(recipe_data,'rb') as modelFile:\n",
    "     recipe_dict = pickle.load(modelFile)"
   ]
  },
  {
   "cell_type": "code",
   "execution_count": 107,
   "id": "a51e7c49-b721-4e65-8fc4-15a3a00ede54",
   "metadata": {
    "tags": []
   },
   "outputs": [],
   "source": [
    "# prepare data for different uses\n",
    "\n",
    "# clean up recipe_dict (remove empty strings)  {recipe: [ingredients]}\n",
    "for r in recipe_dict.keys():\n",
    "    filter_object = filter(lambda x: x != \"\", recipe_dict[r])\n",
    "    without_empty_strings = list(filter_object)\n",
    "    recipe_dict[r] = without_empty_strings\n",
    "\n",
    "# calculate and sort a dataframe of recipes / ingredient\n",
    "recipes_per_ingredient = df_ingredients.sum(axis=1).sort_values(ascending=False).copy()\n",
    "\n",
    "# dictionary of all recipes in each ingredient {ingredient: [recipes]}\n",
    "ingredient_dict = {} \n",
    "for ingredient in df_ingredients.index:\n",
    "    ingredient_dict[ingredient] = df_ingredients.loc[ingredient].index[df_ingredients.loc[ingredient] > 0]"
   ]
  },
  {
   "cell_type": "markdown",
   "id": "02a425fb-3086-4e60-9373-434778480511",
   "metadata": {
    "tags": []
   },
   "source": [
    "#### Generate Graphics"
   ]
  },
  {
   "cell_type": "code",
   "execution_count": 146,
   "id": "555801af-f458-4b4d-9365-1814a45a42cc",
   "metadata": {
    "tags": []
   },
   "outputs": [],
   "source": [
    "# bar graph of recipes / ingredient\n",
    "filtered_ingred = recipes_per_ingredient >= 10\n",
    "x_val = recipes_per_ingredient.index[filtered_ingred] \n",
    "y_val = recipes_per_ingredient[filtered_ingred] \n",
    "graph_recipes_per_ingredient = px.bar(x=x_val, y=y_val, width=1000, range_x=[-1,20], title='Recipes / Ingredient (Minimum 10)', \n",
    "            labels={'x':'Ingredient', 'y':'Total Recipes'})\n",
    "# graph_recipes_per_ingredient.show()"
   ]
  },
  {
   "cell_type": "code",
   "execution_count": 147,
   "id": "d6a87980-5e55-4b65-888d-90aae0060b94",
   "metadata": {
    "tags": []
   },
   "outputs": [],
   "source": [
    "# heatmap with hover\n",
    " #click/drag to zoom. double click to zoom out\n",
    "heatmap_ingredients = px.imshow(df_sims, color_continuous_scale='electric', aspect=\"equal\", height=1000)\n",
    "# heatmap_ingredients.show()"
   ]
  },
  {
   "cell_type": "code",
   "execution_count": 148,
   "id": "9734f295-6d7e-4a03-bf5e-bf1ed898131c",
   "metadata": {},
   "outputs": [],
   "source": [
    "# wordcloud of ingredient frequencies\n",
    "wordcloud = WordCloud(width = 1000, height = 500).generate_from_frequencies(recipes_per_ingredient)\n",
    "\n",
    "plt.figure(figsize=(15,8))\n",
    "plt.imshow(wordcloud)\n",
    "plt.axis(\"off\")\n",
    "buf = io.BytesIO()\n",
    "plt.savefig(buf, format='png')\n",
    "buf.seek(0)\n",
    "string = base64.b64encode(buf.read())\n",
    "\n",
    "uri = 'data:image/png;base64,' + urllib.parse.quote(string)\n",
    "plt.close()\n",
    "wordcloud_ingredients_html = '<img src = \"%s\"/>' % uri"
   ]
  },
  {
   "cell_type": "markdown",
   "id": "12f5ba42-f24d-4e14-87f3-ddce1021b20d",
   "metadata": {
    "jupyter": {
     "source_hidden": true
    },
    "tags": []
   },
   "source": [
    "# Data Analysis (Descriptive Methods)"
   ]
  },
  {
   "cell_type": "markdown",
   "id": "7830c77b-0b58-4cd3-b9ef-38986ef55ab2",
   "metadata": {},
   "source": [
    "●\tThree visualizations (images). Static images are permissible. \n",
    "●\tA Descriptive method = anything that describes the data. \n",
    "○\tImages can double count as your visualization and descriptive method.\n",
    "○\tEx. mean, median, bar plot, scatterplot, k-means clustering, etc. \n",
    "●\tA Non-descriptive method = anything that infers from the data, i.e., makes predictions or prescriptions. \n",
    "○\tEx. classification models, regression, image recognition, etc. \n",
    "●\tAn application of “machine learning” in the non-descriptive OR descriptive method (most data analysis algorithms are acceptable -including regression).\n",
    "●\tAn interactive “dashboard.” \n",
    "○\tThe application must be usable for solving the proposed problem. Any method enabling the user to interact is acceptable, including the command line. A GUI is not required.\n",
    "●\tA “user-friendly” interface. \n",
    "○\tFollowing the “user guide” of part D, the evaluator can successfully run your application as described on their machine.\n"
   ]
  },
  {
   "cell_type": "markdown",
   "id": "453dd491-1aba-4a6f-9d66-dd551fe3a116",
   "metadata": {},
   "source": [
    "data_analysis_window"
   ]
  },
  {
   "cell_type": "code",
   "execution_count": 196,
   "id": "7f86c2be-9f1b-4cb1-b93f-4c1717cb2401",
   "metadata": {
    "jupyter": {
     "source_hidden": true
    },
    "tags": []
   },
   "outputs": [],
   "source": [
    "# data_analysis_window --- data analysis window\n",
    "\n",
    "#TITLE\n",
    "title = 'Data Analysis (Descriptive Methods)'\n",
    "\n",
    "#Total Recipes\n",
    "total_recipes = str(len(recipe_dict))\n",
    "\n",
    "#Total Ingredients\n",
    "total_ingredients = str(len(ingredient_dict))\n",
    "\n",
    "#Mean Ingredients/Recipes\n",
    "ingredients_per_recipe = 0\n",
    "\n",
    "#Mean Recipes/Ingredient\n",
    "recipes_per_ingredient = 0\n",
    "\n",
    "data_html = widgets.HTML('<style> ' +\n",
    "                        'table { ' +\n",
    "                        'font-family: arial, sans-serif;' +\n",
    "                        ' border-collapse: collapse;' +\n",
    "                        ' width: 80%;}' +\n",
    "                        'td, th {' +\n",
    "                        'border: 1px solid #dddddd;' +\n",
    "                        ' text-align: left;' +\n",
    "                        ' padding: 8px;' +\n",
    "                        '}' +\n",
    "                        ' tr:nth-child(even) {' +\n",
    "                        ' background-color: #dddddd;' +\n",
    "                        ' }' +\n",
    "                        '</style>' + \n",
    "                        '<h1>' + title + '</h1><br><br>' +\n",
    "                        '<table>' +\n",
    "                        '<tr><td>Total Recipes: </td><td>' + total_recipes + '</td></tr>' +\n",
    "                        '<tr><td>Total Ingredients: </td><td>' + total_ingredients + '</td></tr>' +\n",
    "                        '<tr><td>Mean Ingredients / Recipe: </td><td>' + str(ingredients_per_recipe) + '</td></tr>' +\n",
    "                        '<tr><td>Mean Recipes / Ingredient: </td><td>' + str(recipes_per_ingredient) + '</td></tr>' +\n",
    "                        '</table>')\n",
    "    \n",
    "\n",
    "data_analysis_window = data_html"
   ]
  },
  {
   "cell_type": "markdown",
   "id": "57da0dfb-1659-4cf2-ab43-b0ee2b3fe184",
   "metadata": {},
   "source": [
    "recipe_window"
   ]
  },
  {
   "cell_type": "code",
   "execution_count": 218,
   "id": "b322568b-4bf5-4141-a270-43a27f3ef559",
   "metadata": {
    "tags": []
   },
   "outputs": [],
   "source": [
    "# recipe_window --- ingredient exploration window\n",
    "\n",
    "# list of all recipes for a selected ingredient. Runs off of dict(recipes).\n",
    "# drop box of ingredients\n",
    "sorted_ingredients = [x.title() for x in sorted(ingredient_dict.keys())]\n",
    "ingredient_selector = widgets.Dropdown(options=sorted_ingredients)\n",
    "\n",
    "# list of all recipes in that ingredient\n",
    "recipe_list_box = widgets.Select(rows=20)\n",
    "\n",
    "# list of all ingredients in selected recipe\n",
    "list_title = widgets.HTML('Ingredients for selected drink:')\n",
    "drink_ingredients_list = widgets.Select(rows=20)\n",
    "\n",
    "def update_recipe_list(*args):\n",
    "    recipe_list_box.options = ingredient_dict[ingredient_selector.value.lower()]\n",
    "def update_ingredients_list(*args):\n",
    "    drink_ingredients_list.options = recipe_dict[recipe_list_box.value]\n",
    "\n",
    "# update recipe list when an ingredient is chosen\n",
    "ingredient_selector.observe(update_recipe_list, names='value')\n",
    "# update ingredient list when a recipe is chosen\n",
    "recipe_list_box.observe(update_ingredients_list, names='value')\n",
    "\n",
    "# instructions for window\n",
    "instructions = widgets.HTML('<h3>Choose an ingredient to see which recipes it is used in.<br>' +\n",
    "                           'Choose a recipe to see which ingredients it uses.')\n",
    "\n",
    "# arrange and display widgets\n",
    "left_side = widgets.VBox([ingredient_selector, recipe_list_box])\n",
    "right_side = widgets.VBox([list_title, drink_ingredients_list])\n",
    "bottom_pane = widgets.HBox([left_side, right_side])\n",
    "recipe_window = widgets.VBox([instructions, bottom_pane])"
   ]
  },
  {
   "cell_type": "markdown",
   "id": "e512aa90-20a1-4072-adf4-849632029bd5",
   "metadata": {},
   "source": [
    "bar_graph_window"
   ]
  },
  {
   "cell_type": "code",
   "execution_count": 219,
   "id": "24f83a8d-e5b2-41c2-9a87-503b1ba5d4f4",
   "metadata": {},
   "outputs": [],
   "source": [
    "# bar_graph_window --- bar graph of recipes / ingredient\n",
    "bar_graph_out = widgets.Output()\n",
    "with bar_graph_out:\n",
    "    graph_recipes_per_ingredient.show()\n",
    "bar_graph_window = widgets.VBox([bar_graph_out])"
   ]
  },
  {
   "cell_type": "markdown",
   "id": "24951580-1e5c-4cda-bbbf-02d73eb9debd",
   "metadata": {},
   "source": [
    "word_cloud_window"
   ]
  },
  {
   "cell_type": "code",
   "execution_count": 220,
   "id": "41920b9f-2c7c-4778-ad20-a0c4d0f63512",
   "metadata": {},
   "outputs": [],
   "source": [
    "# word_cloud_window --- word cloud of ingredient frequency\n",
    "word_cloud_window = widgets.HTML(wordcloud_ingredients_html)"
   ]
  },
  {
   "cell_type": "markdown",
   "id": "e4293e94-0c17-4330-ba48-1c84753b4680",
   "metadata": {},
   "source": [
    "data_analysis_view"
   ]
  },
  {
   "cell_type": "code",
   "execution_count": 222,
   "id": "2476d9cb-0f95-4791-9a92-0a18e41ea077",
   "metadata": {},
   "outputs": [
    {
     "data": {
      "application/vnd.jupyter.widget-view+json": {
       "model_id": "3cf81793ea5b45aab3607e8d2ee9ae48",
       "version_major": 2,
       "version_minor": 0
      },
      "text/plain": [
       "VBox(children=(HBox(children=(HTML(value='<style> table { font-family: arial, sans-serif; border-collapse: col…"
      ]
     },
     "metadata": {},
     "output_type": "display_data"
    }
   ],
   "source": [
    "# assemble data analysis view and display\n",
    "\n",
    "top_window = widgets.HBox([data_analysis_window, recipe_window])\n",
    "data_analysis_view = widgets.VBox([top_window, bar_graph_window, word_cloud_window], layout=widgets.Layout(padding='50px'))\n",
    "data_analysis_view"
   ]
  },
  {
   "cell_type": "markdown",
   "id": "ca5de7b1-9545-48b4-8775-1b39b9ecd811",
   "metadata": {
    "jp-MarkdownHeadingCollapsed": true,
    "tags": []
   },
   "source": [
    "## VIEW"
   ]
  },
  {
   "cell_type": "code",
   "execution_count": 96,
   "id": "d7233d64-da25-45ea-af1d-b32134f976eb",
   "metadata": {
    "tags": []
   },
   "outputs": [
    {
     "data": {
      "application/vnd.jupyter.widget-view+json": {
       "model_id": "335c4ed17bb14a90b7ff0545e74754ef",
       "version_major": 2,
       "version_minor": 0
      },
      "text/plain": [
       "VBox(children=(HTML(value='<center><h1>Barbuilder</h1></n><h3>Drink Ingredient Recommendation System</h3>'), H…"
      ]
     },
     "metadata": {},
     "output_type": "display_data"
    }
   ],
   "source": [
    "heat_map = plt.imshow(df_sims, cmap='hot', interpolation='nearest')\n",
    "out1 = widgets.Output()\n",
    "with out1:\n",
    "    plt.show()\n",
    "    #  display(heat_map.figure)\n",
    "\n",
    "#basic list box layout\n",
    "list_box_layout = widgets.Layout(height='400px')\n",
    "\n",
    "top_bar = widgets.HTML(\n",
    "    value=\"<center><h1>Barbuilder</h1></n><h3>Drink Ingredient Recommendation System</h3>\",\n",
    ")\n",
    "\n",
    "#set up ingredients window\n",
    "#search_box\n",
    "search_label = widgets.Label(value='Search:')\n",
    "search_box = widgets.Text(disabled=False,)\n",
    "\n",
    "#ingredient list\n",
    "ingredient_list = widgets.Select(options=df_ingredients.index, layout=list_box_layout)\n",
    "\n",
    "#instruction text\n",
    "ingredient_instructions = widgets.Label(value='Click ingredients to add to your list of what you own.')\n",
    "\n",
    "#assemble ingredient window\n",
    "ingredient_window = widgets.VBox([search_label, search_box, ingredient_list, ingredient_instructions])\n",
    "\n",
    "\n",
    "#set up customer list window\n",
    "#customer window hbox\n",
    "customer_list_header = widgets.Label(value='Customer\\'s Ingredients')\n",
    "recipe_count_header = widgets.Label(value='Total Recipes Used In:')\n",
    "customer_header_hbox = widgets.HBox([customer_list_header, recipe_count_header])\n",
    "hidden_box = widgets.Text(layout=widgets.Layout(visibility='hidden'))\n",
    "customer_list = widgets.Select(layout=list_box_layout)\n",
    "customer_list_recipe_count = widgets.Select(layout=widgets.Layout(height='400px', width='30px'))\n",
    "customer_list_hbox = widgets.HBox([customer_list, customer_list_recipe_count])\n",
    "\n",
    "#instruction text\n",
    "customer_instructions = widgets.Text(description='Ingredients: ', value='0', disabled=True, layout=widgets.Layout(width='50%'))\n",
    "\n",
    "#assemble customer list window\n",
    "customer_list_window = widgets.VBox([customer_header_hbox, hidden_box, customer_list_hbox, customer_instructions])\n",
    "\n",
    "\n",
    "#set up recommendation window\n",
    "#recommendation window hbox\n",
    "\n",
    "#instruction text\n",
    "\n",
    "#assemble recommendation window\n",
    "recommendation_window = widgets.VBox([])\n",
    "\n",
    "#assemble windows into main window\n",
    "main_window = widgets.HBox([ingredient_window, customer_list_window, recommendation_window])\n",
    "\n",
    "#set up anything that goes along the bottom of the UI\n",
    "bottom_bar = widgets.Label(\n",
    "    value='Instructions...',\n",
    ")\n",
    "\n",
    "#roll it all into a GUI\n",
    "gui = widgets.VBox([top_bar, main_window, bottom_bar])\n",
    "\n",
    "#load gui\n",
    "gui"
   ]
  },
  {
   "cell_type": "code",
   "execution_count": 64,
   "id": "3fb50a88-3ad4-45d4-bc6a-9c1517e55be7",
   "metadata": {
    "collapsed": true,
    "jupyter": {
     "outputs_hidden": true,
     "source_hidden": true
    },
    "tags": []
   },
   "outputs": [
    {
     "data": {
      "application/vnd.jupyter.widget-view+json": {
       "model_id": "0d29c7337ae44bafa2962e168c2aa9d0",
       "version_major": 2,
       "version_minor": 0
      },
      "text/plain": [
       "VBox(children=(Box(children=(Button(button_style='danger', description='correct', layout=Layout(width='auto'),…"
      ]
     },
     "metadata": {},
     "output_type": "display_data"
    }
   ],
   "source": [
    "items_layout = widgets.Layout( width='auto')     # override the default width of the button to 'auto' to let the button grow\n",
    "\n",
    "box_layout = widgets.Layout(display='flex',\n",
    "                    flex_flow='column',\n",
    "                    align_items='stretch',\n",
    "                    border='solid',\n",
    "                    width='50%')\n",
    "\n",
    "words = ['correct', 'horse', 'battery', 'staple']\n",
    "items = [widgets.Button(description=word, layout=items_layout, button_style='danger') for word in words]\n",
    "box = widgets.Box(children=items, layout=box_layout)\n",
    "box2 = widgets.Box(children=[out1], layout=box_layout)\n",
    "gui = widgets.VBox([box, box2])\n",
    "gui"
   ]
  },
  {
   "cell_type": "code",
   "execution_count": null,
   "id": "b7fc28e5-8a11-4ff8-a93f-01d3b4cde479",
   "metadata": {},
   "outputs": [],
   "source": []
  },
  {
   "cell_type": "code",
   "execution_count": null,
   "id": "40585a59-3f9c-43c8-a340-dd7b7548a9f0",
   "metadata": {},
   "outputs": [],
   "source": []
  }
 ],
 "metadata": {
  "kernelspec": {
   "display_name": "Python 3 (ipykernel)",
   "language": "python",
   "name": "python3"
  },
  "language_info": {
   "codemirror_mode": {
    "name": "ipython",
    "version": 3
   },
   "file_extension": ".py",
   "mimetype": "text/x-python",
   "name": "python",
   "nbconvert_exporter": "python",
   "pygments_lexer": "ipython3",
   "version": "3.9.7"
  }
 },
 "nbformat": 4,
 "nbformat_minor": 5
}

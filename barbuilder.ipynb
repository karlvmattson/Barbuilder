{
 "cells": [
  {
   "cell_type": "markdown",
   "id": "0089f082-912c-4df7-a007-6c873dfbf619",
   "metadata": {
    "tags": []
   },
   "source": [
    "# Barbuilder\n",
    "## An Interactive Cocktail Ingredient Recommendation System"
   ]
  },
  {
   "cell_type": "markdown",
   "id": "45cee977-1341-4ce9-8e94-b3fb8eed2b62",
   "metadata": {
    "tags": []
   },
   "source": [
    "### Set Up System"
   ]
  },
  {
   "cell_type": "code",
   "execution_count": 1,
   "id": "449be6ba-dc47-4056-9f01-d1c36430fb77",
   "metadata": {
    "tags": []
   },
   "outputs": [],
   "source": [
    "# imports\n",
    "\n",
    "import base64\n",
    "from bitarray import bitarray\n",
    "import csv\n",
    "import io\n",
    "import ipywidgets as widgets\n",
    "import matplotlib.pyplot as plt\n",
    "import numpy as np\n",
    "import pandas as pd\n",
    "from pathlib import Path\n",
    "import pickle\n",
    "import plotly.express as px\n",
    "import urllib\n",
    "from wordcloud import WordCloud"
   ]
  },
  {
   "cell_type": "code",
   "execution_count": 2,
   "id": "886ea60b-8509-4ab4-be88-65401a9999c5",
   "metadata": {},
   "outputs": [],
   "source": [
    "# locations for file imports\n",
    "\n",
    "processed_data = Path.cwd() / 'processed' / 'cosine_matrix.pickle'\n",
    "ingredient_data = Path.cwd() / 'processed' / 'ingredient_dict.pickle'\n",
    "recipe_data = Path.cwd() / 'processed' / 'recipe_dict.pickle'"
   ]
  },
  {
   "cell_type": "code",
   "execution_count": 3,
   "id": "fe815dae-6eb7-440c-bcdd-1e9cbc6a2dc4",
   "metadata": {
    "tags": []
   },
   "outputs": [],
   "source": [
    "# load Data (Generate data if not found, can take several minutes on first run to download raw files)\n",
    "\n",
    "# check if data already generated. If not, run data_processing.ipynb.\n",
    "try:\n",
    "    open(processed_data, mode='r', encoding='utf-8')\n",
    "    open(ingredient_data, mode='r', encoding='utf-8')\n",
    "except FileNotFoundError as err:\n",
    "    %run ./data_processing.ipynb\n",
    "\n",
    "#  load the data files\n",
    "with open(processed_data,'rb') as modelFile:\n",
    "     df_sims = pickle.load(modelFile)\n",
    "with open(ingredient_data,'rb') as modelFile:\n",
    "     df_ingredients = pickle.load(modelFile)\n",
    "with open(recipe_data,'rb') as modelFile:\n",
    "     recipe_dict = pickle.load(modelFile)"
   ]
  },
  {
   "cell_type": "code",
   "execution_count": 4,
   "id": "a51e7c49-b721-4e65-8fc4-15a3a00ede54",
   "metadata": {
    "tags": []
   },
   "outputs": [],
   "source": [
    "# prepare data for different uses\n",
    "\n",
    "# clean up recipe_dict (remove empty strings)  {recipe: [ingredients]}\n",
    "for r in recipe_dict.keys():\n",
    "    filter_object = filter(lambda x: x != \"\", recipe_dict[r])\n",
    "    without_empty_strings = list(filter_object)\n",
    "    recipe_dict[r] = without_empty_strings\n",
    "\n",
    "# calculate and sort a dataframe of recipes / ingredient\n",
    "recipes_per_ingredient = df_ingredients.sum(axis=1).sort_values(ascending=False).copy()\n",
    "\n",
    "# dictionary of all recipes in each ingredient {ingredient: [recipes]}\n",
    "ingredient_dict = {} \n",
    "for ingredient in df_ingredients.index:\n",
    "    ingredient_dict[ingredient] = df_ingredients.loc[ingredient].index[df_ingredients.loc[ingredient] > 0]"
   ]
  },
  {
   "cell_type": "code",
   "execution_count": 24,
   "id": "1371f6b6-2a79-400b-9c1c-8be4aee4bfa6",
   "metadata": {},
   "outputs": [
    {
     "data": {
      "text/html": [
       "<div>\n",
       "<style scoped>\n",
       "    .dataframe tbody tr th:only-of-type {\n",
       "        vertical-align: middle;\n",
       "    }\n",
       "\n",
       "    .dataframe tbody tr th {\n",
       "        vertical-align: top;\n",
       "    }\n",
       "\n",
       "    .dataframe thead th {\n",
       "        text-align: right;\n",
       "    }\n",
       "</style>\n",
       "<table border=\"1\" class=\"dataframe\">\n",
       "  <thead>\n",
       "    <tr style=\"text-align: right;\">\n",
       "      <th></th>\n",
       "      <th>vodka</th>\n",
       "      <th>gin</th>\n",
       "      <th>rum</th>\n",
       "      <th>tequila</th>\n",
       "      <th>scotch</th>\n",
       "      <th>absolut kurant</th>\n",
       "      <th>absolut peppar</th>\n",
       "      <th>absolut vodka</th>\n",
       "      <th>advocaat</th>\n",
       "      <th>agave syrup</th>\n",
       "      <th>...</th>\n",
       "      <th>whisky</th>\n",
       "      <th>pomegranate juice</th>\n",
       "      <th>watermelon</th>\n",
       "      <th>rosemary syrup</th>\n",
       "      <th>figs</th>\n",
       "      <th>thyme</th>\n",
       "      <th>blood orange</th>\n",
       "      <th>amaro montenegro</th>\n",
       "      <th>ruby port</th>\n",
       "      <th>rose</th>\n",
       "    </tr>\n",
       "  </thead>\n",
       "  <tbody>\n",
       "    <tr>\n",
       "      <th>vodka</th>\n",
       "      <td>1.000000</td>\n",
       "      <td>0.089148</td>\n",
       "      <td>0.121218</td>\n",
       "      <td>0.129099</td>\n",
       "      <td>0.0</td>\n",
       "      <td>0.0</td>\n",
       "      <td>0.0</td>\n",
       "      <td>0.000000</td>\n",
       "      <td>0.0</td>\n",
       "      <td>0.000000</td>\n",
       "      <td>...</td>\n",
       "      <td>0.0</td>\n",
       "      <td>0.0</td>\n",
       "      <td>0.000000</td>\n",
       "      <td>0.000000</td>\n",
       "      <td>0.101015</td>\n",
       "      <td>0.101015</td>\n",
       "      <td>0.101015</td>\n",
       "      <td>0.101015</td>\n",
       "      <td>0.101015</td>\n",
       "      <td>0.0</td>\n",
       "    </tr>\n",
       "    <tr>\n",
       "      <th>gin</th>\n",
       "      <td>0.089148</td>\n",
       "      <td>1.000000</td>\n",
       "      <td>0.058835</td>\n",
       "      <td>0.089514</td>\n",
       "      <td>0.0</td>\n",
       "      <td>0.0</td>\n",
       "      <td>0.0</td>\n",
       "      <td>0.043853</td>\n",
       "      <td>0.0</td>\n",
       "      <td>0.000000</td>\n",
       "      <td>...</td>\n",
       "      <td>0.0</td>\n",
       "      <td>0.0</td>\n",
       "      <td>0.000000</td>\n",
       "      <td>0.069338</td>\n",
       "      <td>0.000000</td>\n",
       "      <td>0.000000</td>\n",
       "      <td>0.000000</td>\n",
       "      <td>0.000000</td>\n",
       "      <td>0.000000</td>\n",
       "      <td>0.0</td>\n",
       "    </tr>\n",
       "    <tr>\n",
       "      <th>rum</th>\n",
       "      <td>0.121218</td>\n",
       "      <td>0.058835</td>\n",
       "      <td>1.000000</td>\n",
       "      <td>0.073030</td>\n",
       "      <td>0.0</td>\n",
       "      <td>0.0</td>\n",
       "      <td>0.0</td>\n",
       "      <td>0.000000</td>\n",
       "      <td>0.0</td>\n",
       "      <td>0.000000</td>\n",
       "      <td>...</td>\n",
       "      <td>0.0</td>\n",
       "      <td>0.2</td>\n",
       "      <td>0.000000</td>\n",
       "      <td>0.000000</td>\n",
       "      <td>0.000000</td>\n",
       "      <td>0.000000</td>\n",
       "      <td>0.000000</td>\n",
       "      <td>0.000000</td>\n",
       "      <td>0.000000</td>\n",
       "      <td>0.0</td>\n",
       "    </tr>\n",
       "    <tr>\n",
       "      <th>tequila</th>\n",
       "      <td>0.129099</td>\n",
       "      <td>0.089514</td>\n",
       "      <td>0.073030</td>\n",
       "      <td>1.000000</td>\n",
       "      <td>0.0</td>\n",
       "      <td>0.0</td>\n",
       "      <td>0.0</td>\n",
       "      <td>0.000000</td>\n",
       "      <td>0.0</td>\n",
       "      <td>0.210819</td>\n",
       "      <td>...</td>\n",
       "      <td>0.0</td>\n",
       "      <td>0.0</td>\n",
       "      <td>0.182574</td>\n",
       "      <td>0.129099</td>\n",
       "      <td>0.000000</td>\n",
       "      <td>0.000000</td>\n",
       "      <td>0.000000</td>\n",
       "      <td>0.000000</td>\n",
       "      <td>0.000000</td>\n",
       "      <td>0.0</td>\n",
       "    </tr>\n",
       "    <tr>\n",
       "      <th>scotch</th>\n",
       "      <td>0.000000</td>\n",
       "      <td>0.000000</td>\n",
       "      <td>0.000000</td>\n",
       "      <td>0.000000</td>\n",
       "      <td>1.0</td>\n",
       "      <td>0.0</td>\n",
       "      <td>0.0</td>\n",
       "      <td>0.000000</td>\n",
       "      <td>0.0</td>\n",
       "      <td>0.000000</td>\n",
       "      <td>...</td>\n",
       "      <td>0.0</td>\n",
       "      <td>0.0</td>\n",
       "      <td>0.000000</td>\n",
       "      <td>0.000000</td>\n",
       "      <td>0.000000</td>\n",
       "      <td>0.000000</td>\n",
       "      <td>0.000000</td>\n",
       "      <td>0.000000</td>\n",
       "      <td>0.000000</td>\n",
       "      <td>0.0</td>\n",
       "    </tr>\n",
       "  </tbody>\n",
       "</table>\n",
       "<p>5 rows × 324 columns</p>\n",
       "</div>"
      ],
      "text/plain": [
       "            vodka       gin       rum   tequila  scotch  absolut kurant  \\\n",
       "vodka    1.000000  0.089148  0.121218  0.129099     0.0             0.0   \n",
       "gin      0.089148  1.000000  0.058835  0.089514     0.0             0.0   \n",
       "rum      0.121218  0.058835  1.000000  0.073030     0.0             0.0   \n",
       "tequila  0.129099  0.089514  0.073030  1.000000     0.0             0.0   \n",
       "scotch   0.000000  0.000000  0.000000  0.000000     1.0             0.0   \n",
       "\n",
       "         absolut peppar  absolut vodka  advocaat  agave syrup  ...  whisky  \\\n",
       "vodka               0.0       0.000000       0.0     0.000000  ...     0.0   \n",
       "gin                 0.0       0.043853       0.0     0.000000  ...     0.0   \n",
       "rum                 0.0       0.000000       0.0     0.000000  ...     0.0   \n",
       "tequila             0.0       0.000000       0.0     0.210819  ...     0.0   \n",
       "scotch              0.0       0.000000       0.0     0.000000  ...     0.0   \n",
       "\n",
       "         pomegranate juice  watermelon  rosemary syrup      figs     thyme  \\\n",
       "vodka                  0.0    0.000000        0.000000  0.101015  0.101015   \n",
       "gin                    0.0    0.000000        0.069338  0.000000  0.000000   \n",
       "rum                    0.2    0.000000        0.000000  0.000000  0.000000   \n",
       "tequila                0.0    0.182574        0.129099  0.000000  0.000000   \n",
       "scotch                 0.0    0.000000        0.000000  0.000000  0.000000   \n",
       "\n",
       "         blood orange  amaro montenegro  ruby port  rose  \n",
       "vodka        0.101015          0.101015   0.101015   0.0  \n",
       "gin          0.000000          0.000000   0.000000   0.0  \n",
       "rum          0.000000          0.000000   0.000000   0.0  \n",
       "tequila      0.000000          0.000000   0.000000   0.0  \n",
       "scotch       0.000000          0.000000   0.000000   0.0  \n",
       "\n",
       "[5 rows x 324 columns]"
      ]
     },
     "execution_count": 24,
     "metadata": {},
     "output_type": "execute_result"
    }
   ],
   "source": [
    "df_sims.head()"
   ]
  },
  {
   "cell_type": "markdown",
   "id": "02a425fb-3086-4e60-9373-434778480511",
   "metadata": {
    "tags": []
   },
   "source": [
    "#### Generate Graphics"
   ]
  },
  {
   "cell_type": "code",
   "execution_count": 5,
   "id": "555801af-f458-4b4d-9365-1814a45a42cc",
   "metadata": {
    "tags": []
   },
   "outputs": [],
   "source": [
    "# bar graph of recipes / ingredient\n",
    "filtered_ingred = recipes_per_ingredient >= 10\n",
    "x_val = recipes_per_ingredient.index[filtered_ingred] \n",
    "y_val = recipes_per_ingredient[filtered_ingred] \n",
    "graph_recipes_per_ingredient = px.bar(x=x_val, y=y_val, width=1000, range_x=[-1,20], title='Recipes / Ingredient (Minimum 10)', \n",
    "            labels={'x':'Ingredient (click/drag ingredients to move graph sideways)', 'y':'Total Recipes'})\n",
    "# graph_recipes_per_ingredient.show()"
   ]
  },
  {
   "cell_type": "code",
   "execution_count": 6,
   "id": "d6a87980-5e55-4b65-888d-90aae0060b94",
   "metadata": {
    "tags": []
   },
   "outputs": [],
   "source": [
    "# heatmap with hover\n",
    " #click/drag to zoom. double click to zoom out\n",
    "heatmap_ingredients = px.imshow(df_sims, color_continuous_scale='electric', aspect=\"equal\", height=1000, title='Ingredient Similarities. Click/drag to zoom. Double-click to zoom out.')\n",
    "# heatmap_ingredients.show()\n",
    "out_heat = widgets.Output()\n",
    "with out_heat:\n",
    "    heatmap_ingredients.show()"
   ]
  },
  {
   "cell_type": "code",
   "execution_count": 7,
   "id": "9734f295-6d7e-4a03-bf5e-bf1ed898131c",
   "metadata": {
    "tags": []
   },
   "outputs": [],
   "source": [
    "# wordcloud of ingredient frequencies\n",
    "wordcloud = WordCloud(width = 1000, height = 500).generate_from_frequencies(recipes_per_ingredient)\n",
    "\n",
    "\n",
    "plt.figure(figsize=(16,8))\n",
    "plt.imshow(wordcloud)\n",
    "plt.axis(\"off\")\n",
    "buf = io.BytesIO()\n",
    "plt.title(label='Ingredient Frequency Word Cloud', loc='center')\n",
    "plt.savefig(buf, format='png')\n",
    "buf.seek(0)\n",
    "string = base64.b64encode(buf.read())\n",
    "\n",
    "uri = 'data:image/png;base64,' + urllib.parse.quote(string)\n",
    "plt.close()\n",
    "wordcloud_ingredients_html = '<img src = \"%s\"/>' % uri"
   ]
  },
  {
   "cell_type": "markdown",
   "id": "e886f343-6218-4154-93a1-700342028b3b",
   "metadata": {
    "tags": []
   },
   "source": [
    "### Set up Data Analysis Window"
   ]
  },
  {
   "cell_type": "code",
   "execution_count": 8,
   "id": "7f86c2be-9f1b-4cb1-b93f-4c1717cb2401",
   "metadata": {
    "tags": []
   },
   "outputs": [],
   "source": [
    "# data_analysis_window --- data analysis window\n",
    "\n",
    "#TITLE\n",
    "title = 'Data Analysis'\n",
    "\n",
    "#Total Recipes\n",
    "total_recipes = str(len(recipe_dict))\n",
    "\n",
    "#Total Ingredients\n",
    "total_ingredients = str(len(ingredient_dict))\n",
    "\n",
    "#Mean Ingredients/Recipes\n",
    "mean_ingredients_per_recipe = sum([len(recipe_dict[x]) for x in recipe_dict.keys()]) / len(recipe_dict)\n",
    "\n",
    "#Mean Recipes/Ingredient\n",
    "mean_recipes_per_ingredient = recipes_per_ingredient.mean()\n",
    "\n",
    "data_html = widgets.HTML('<style> ' +\n",
    "                        'table { ' +\n",
    "                        'font-family: arial, sans-serif;' +\n",
    "                        ' border-collapse: collapse;' +\n",
    "                        ' width: 80%;}' +\n",
    "                        'td, th {' +\n",
    "                        'border: 1px solid #dddddd;' +\n",
    "                        ' text-align: left;' +\n",
    "                        ' padding: 8px;' +\n",
    "                        '}' +\n",
    "                        ' tr:nth-child(even) {' +\n",
    "                        ' background-color: #dddddd;' +\n",
    "                        ' }' +\n",
    "                        '</style>' + \n",
    "                        '<h1>' + title + '</h1><br><br>' +\n",
    "                        '<table>' +\n",
    "                        '<tr><td>Total Recipes: </td><td>' + total_recipes + '</td></tr>' +\n",
    "                        '<tr><td>Total Ingredients: </td><td>' + total_ingredients + '</td></tr>' +\n",
    "                        '<tr><td>Mean Ingredients / Recipe: </td><td>' + \"%.2f\" % mean_ingredients_per_recipe + '</td></tr>' +\n",
    "                        '<tr><td>Mean Recipes / Ingredient: </td><td>' + \"%.2f\" % mean_recipes_per_ingredient + '</td></tr>' +\n",
    "                        '</table>')\n",
    "    \n",
    "\n",
    "data_analysis_window = data_html"
   ]
  },
  {
   "cell_type": "code",
   "execution_count": 9,
   "id": "b322568b-4bf5-4141-a270-43a27f3ef559",
   "metadata": {
    "tags": []
   },
   "outputs": [],
   "source": [
    "# recipe_window --- ingredient exploration window\n",
    "\n",
    "# list of all recipes for a selected ingredient. Runs off of dict(recipes).\n",
    "# drop box of ingredients\n",
    "sorted_ingredients = [x.title() for x in sorted(ingredient_dict.keys())]\n",
    "ingredient_selector = widgets.Dropdown(options=sorted_ingredients)\n",
    "\n",
    "# list of all recipes in that ingredient\n",
    "recipe_list_box = widgets.Select(rows=20)\n",
    "\n",
    "# list of all ingredients in selected recipe\n",
    "list_title = widgets.HTML('Ingredients for selected drink:')\n",
    "drink_ingredients_list = widgets.Select(rows=20)\n",
    "\n",
    "def update_recipe_list(*args):\n",
    "    recipe_list_box.options = ingredient_dict[ingredient_selector.value.lower()]\n",
    "def update_ingredients_list(*args):\n",
    "    drink_ingredients_list.options = recipe_dict[recipe_list_box.value]\n",
    "\n",
    "# update recipe list when an ingredient is chosen\n",
    "ingredient_selector.observe(update_recipe_list, names='value')\n",
    "# update ingredient list when a recipe is chosen\n",
    "recipe_list_box.observe(update_ingredients_list, names='value')\n",
    "\n",
    "# instructions for window\n",
    "instructions = widgets.HTML('<h3>Choose an ingredient to see which recipes it is used in.<br>' +\n",
    "                           'Choose a recipe to see which ingredients it uses.')\n",
    "\n",
    "# arrange and display widgets\n",
    "left_side = widgets.VBox([ingredient_selector, recipe_list_box])\n",
    "right_side = widgets.VBox([list_title, drink_ingredients_list])\n",
    "bottom_pane = widgets.HBox([left_side, right_side])\n",
    "recipe_window = widgets.VBox([instructions, bottom_pane])"
   ]
  },
  {
   "cell_type": "code",
   "execution_count": 10,
   "id": "24f83a8d-e5b2-41c2-9a87-503b1ba5d4f4",
   "metadata": {
    "tags": []
   },
   "outputs": [],
   "source": [
    "# bar_graph_window --- bar graph of recipes / ingredient\n",
    "bar_graph_out = widgets.Output()\n",
    "with bar_graph_out:\n",
    "    graph_recipes_per_ingredient.show()\n",
    "bar_graph_window = widgets.VBox([bar_graph_out])"
   ]
  },
  {
   "cell_type": "code",
   "execution_count": 11,
   "id": "41920b9f-2c7c-4778-ad20-a0c4d0f63512",
   "metadata": {
    "tags": []
   },
   "outputs": [],
   "source": [
    "# word_cloud_window --- word cloud of ingredient frequency\n",
    "word_cloud_window = widgets.HTML(wordcloud_ingredients_html)"
   ]
  },
  {
   "cell_type": "markdown",
   "id": "12f5ba42-f24d-4e14-87f3-ddce1021b20d",
   "metadata": {
    "tags": []
   },
   "source": [
    "# Data Analysis (Descriptive Methods)"
   ]
  },
  {
   "cell_type": "code",
   "execution_count": 12,
   "id": "2476d9cb-0f95-4791-9a92-0a18e41ea077",
   "metadata": {
    "tags": []
   },
   "outputs": [
    {
     "data": {
      "application/vnd.jupyter.widget-view+json": {
       "model_id": "46515633fc0c4ebb8ea4b56d207bd703",
       "version_major": 2,
       "version_minor": 0
      },
      "text/plain": [
       "VBox(children=(HBox(children=(HTML(value='<style> table { font-family: arial, sans-serif; border-collapse: col…"
      ]
     },
     "metadata": {},
     "output_type": "display_data"
    }
   ],
   "source": [
    "# assemble data analysis view and display\n",
    "\n",
    "top_window = widgets.HBox([data_analysis_window, recipe_window])\n",
    "data_analysis_view = widgets.VBox([top_window, bar_graph_window, word_cloud_window, out_heat], layout=widgets.Layout(padding='50px', width='80%'))\n",
    "data_analysis_view"
   ]
  },
  {
   "cell_type": "markdown",
   "id": "0b9c2dff-41f5-4447-a1ea-090054ab2856",
   "metadata": {
    "jp-MarkdownHeadingCollapsed": true,
    "tags": []
   },
   "source": [
    "# Set up recommendation dashboard"
   ]
  },
  {
   "cell_type": "code",
   "execution_count": 13,
   "id": "e9b166da-fb79-48b8-a4c1-23e37d6bde0e",
   "metadata": {
    "tags": []
   },
   "outputs": [],
   "source": [
    "# Recommendation Algorithm\n",
    "\n",
    "# Returns sorted recommendations based on a list of owned ingredients\n",
    "def get_recommendation(c):\n",
    "    # uses df_sims, previously calculated cosine similarity matrix\n",
    "    if len(c) == 0: return df_sims.sum(axis=0).sort_values(ascending=False)\n",
    "        \n",
    "    # filter down to customer list c\n",
    "    filtered_df = df_sims.filter(items=c, axis=0)\n",
    "    \n",
    "    # sum up columns to get total recommendations\n",
    "    summed_df = filtered_df.sum(axis=0)\n",
    "    \n",
    "    # delete any rows in the customer list c, don't recommend what they already have!\n",
    "    result = summed_df.drop(c).sort_values(ascending=False)\n",
    "\n",
    "    return result"
   ]
  },
  {
   "cell_type": "code",
   "execution_count": 14,
   "id": "dfe37f6f-27a4-4fc8-be13-6a81fe63d890",
   "metadata": {
    "tags": []
   },
   "outputs": [],
   "source": [
    "# Heat Map Example\n",
    "heat_map = plt.imshow(df_sims, cmap='hot', interpolation='nearest')\n",
    "out1 = widgets.Output()\n",
    "with out1:\n",
    "    plt.show()\n",
    "    #  display(heat_map.figure)"
   ]
  },
  {
   "cell_type": "code",
   "execution_count": 15,
   "id": "1313477f-2ec2-4e1e-a631-7637df25b914",
   "metadata": {
    "tags": []
   },
   "outputs": [],
   "source": [
    "# create data objects to drive each window\n",
    "sorted_ingredients = [x.title() for x in sorted(ingredient_dict.keys())] # for ingredient list\n",
    "customer_ingredients = [] # for customer list\n",
    "recommendations = [] # for recommendation screen"
   ]
  },
  {
   "cell_type": "code",
   "execution_count": 16,
   "id": "04cd99c6-e42a-4183-9d70-748ed885fcbf",
   "metadata": {},
   "outputs": [],
   "source": [
    "# interaction functions for recommender system\n",
    "\n",
    "def generate_customer_list():\n",
    "    customer_list.options = [x.title() for x in sorted(customer_ingredients)]\n",
    "    ingredient_count.value = str(len(customer_ingredients))\n",
    "    generate_recommendation_list()\n",
    "\n",
    "def build_recommendation_strings(r):\n",
    "    str_len = 40 # change this to modify final string length\n",
    "    result = []\n",
    "    for x in r.index:\n",
    "        i = len(x)\n",
    "        score = \"%.2f\" % r[x]\n",
    "        mid = str_len - i - len(score)\n",
    "        result.append(x.title() + ' ' + '-'*(mid-2) + ' ' + score)   \n",
    "    return result\n",
    "\n",
    "def unbuild_recommendation_string(s):\n",
    "    return s[:s.find('-')-1]\n",
    "\n",
    "def generate_recommendation_list():\n",
    "    r = get_recommendation(customer_ingredients)\n",
    "    recommendation_list.options = build_recommendation_strings(r)\n",
    "    \n",
    "def search_box_typing(*args):\n",
    "    unset_observes()\n",
    "    ingredient_list.options = [s.title() for s in sorted_ingredients if search_box.value.lower() in s.lower()]\n",
    "    set_observes()\n",
    "\n",
    "def click_ingredient_list(*args):\n",
    "    unset_observes()\n",
    "    search_box.value = ''\n",
    "    clicked = ingredient_list.value\n",
    "    if ~len(clicked) > 0: return\n",
    "    customer_ingredients.append(clicked.lower())\n",
    "    sorted_ingredients.remove(clicked.title())\n",
    "    ingredient_list.options = sorted_ingredients\n",
    "    set_observes()\n",
    "\n",
    "def click_customer_list(*args):\n",
    "    unset_observes()\n",
    "    search_box.value = ''\n",
    "    clicked = customer_list.value\n",
    "    if ~len(clicked) > 0: return\n",
    "    sorted_ingredients.append(clicked.title())\n",
    "    sorted_ingredients.sort()\n",
    "    customer_ingredients.remove(clicked.lower())\n",
    "    ingredient_list.options = sorted_ingredients\n",
    "    set_observes()\n",
    "\n",
    "def click_recommendation_list(*args):\n",
    "    unset_observes()\n",
    "    search_box.value = ''\n",
    "    clicked = recommendation_list.value\n",
    "    if ~len(clicked) > 0: return\n",
    "    clicked = unbuild_recommendation_string(clicked)\n",
    "    customer_ingredients.append(clicked.lower())\n",
    "    sorted_ingredients.remove(clicked.title())\n",
    "    ingredient_list.options = sorted_ingredients\n",
    "    set_observes()\n",
    "\n",
    "def set_observes():\n",
    "    generate_customer_list()\n",
    "    customer_list.value=None\n",
    "    ingredient_list.value=None\n",
    "    recommendation_list.value=None\n",
    "    search_box.observe(search_box_typing, names='value')\n",
    "    ingredient_list.observe(click_ingredient_list, names='value')\n",
    "    customer_list.observe(click_customer_list, names='value')\n",
    "    recommendation_list.observe(click_recommendation_list, names='value')\n",
    "\n",
    "def unset_observes():\n",
    "    search_box.unobserve(search_box_typing, names='value')\n",
    "    ingredient_list.unobserve(click_ingredient_list, names='value')\n",
    "    customer_list.unobserve(click_customer_list, names='value')\n",
    "    recommendation_list.unobserve(click_recommendation_list, names='value')"
   ]
  },
  {
   "cell_type": "code",
   "execution_count": 17,
   "id": "117f7546-c20f-44d7-a7da-3b9d16221820",
   "metadata": {},
   "outputs": [],
   "source": [
    "#basic list box layout\n",
    "list_box_layout = widgets.Layout(height='400px')\n",
    "\n",
    "# title bar\n",
    "top_bar = widgets.HTML(value=\"<center><h1>Barbuilder</h1></n><h3>Drink Ingredient Recommendation System</h3></n>\" + \n",
    "                       \"<h3>This application will recommend cocktail ingredients that work well together in recipes!</h3>\",)\n",
    "\n",
    "# set up ingredients window\n",
    "# search_box\n",
    "search_label = widgets.Label(value='Search:')\n",
    "search_box = widgets.Text(disabled=False,)\n",
    "\n",
    "# ingredient list\n",
    "ingredient_list = widgets.Select(options=sorted_ingredients, layout=list_box_layout)\n",
    "ingredient_list.value = None\n",
    "\n",
    "# assemble ingredient window\n",
    "ingredient_window = widgets.VBox([search_label, search_box, ingredient_list])\n",
    "\n",
    "# set up customer list window\n",
    "customer_list_header = widgets.Label(value='Customer\\'s Ingredients:')\n",
    "hidden_box = widgets.Text(layout=widgets.Layout(visibility='hidden'))\n",
    "customer_list = widgets.Select(options=customer_ingredients, layout=list_box_layout)\n",
    "\n",
    "# instruction text\n",
    "ingredient_count = widgets.Text(description='Ingredients: ', value='0', disabled=True, layout=widgets.Layout(width='200px'))\n",
    "\n",
    "# assemble customer list window\n",
    "customer_list_window = widgets.VBox(children=[customer_list_header, hidden_box, customer_list, ingredient_count])\n",
    "\n",
    "# set up recommendation window\n",
    "recommendation_list_header = widgets.Label(value='Purchase Recommendations / Recommendation Score:')\n",
    "hidden_box = widgets.Text(layout=widgets.Layout(visibility='hidden'))\n",
    "recommendation_list = widgets.Select(options=recommendations, layout=list_box_layout)\n",
    "\n",
    "# assemble recommendation window\n",
    "recommendation_window = widgets.VBox([recommendation_list_header, hidden_box, recommendation_list])\n",
    "\n",
    "# assemble windows into main window\n",
    "main_window = widgets.HBox([ingredient_window, customer_list_window, recommendation_window],layout=widgets.Layout(grid_gap='50px'))\n",
    "\n",
    "# set up anything that goes along the bottom of the UI\n",
    "bottom_bar = widgets.Label(value='Instructions:  Click ingredients in list to add to what you own ' + \n",
    "                           '(Customer\\'s ingredients as well as recommendations). Click to remove ingredients from the Customer list.',)\n",
    "\n",
    "# roll it all into a GUI\n",
    "gui = widgets.VBox([top_bar, main_window, bottom_bar], layout=widgets.Layout(display='flex', flex_flow='column', align_items='center', width='80%'))\n",
    "\n",
    "# set observe methods\n",
    "set_observes()"
   ]
  },
  {
   "cell_type": "markdown",
   "id": "ca5de7b1-9545-48b4-8775-1b39b9ecd811",
   "metadata": {
    "tags": []
   },
   "source": [
    "# Recommendation Dashboard"
   ]
  },
  {
   "cell_type": "code",
   "execution_count": 18,
   "id": "d7233d64-da25-45ea-af1d-b32134f976eb",
   "metadata": {
    "jupyter": {
     "source_hidden": true
    },
    "tags": []
   },
   "outputs": [
    {
     "data": {
      "application/vnd.jupyter.widget-view+json": {
       "model_id": "a708002a19e04dcc96f8388a2400cd09",
       "version_major": 2,
       "version_minor": 0
      },
      "text/plain": [
       "VBox(children=(HTML(value='<center><h1>Barbuilder</h1></n><h3>Drink Ingredient Recommendation System</h3></n><…"
      ]
     },
     "metadata": {},
     "output_type": "display_data"
    }
   ],
   "source": [
    "# load dashboard\n",
    "gui"
   ]
  }
 ],
 "metadata": {
  "kernelspec": {
   "display_name": "Python 3 (ipykernel)",
   "language": "python",
   "name": "python3"
  },
  "language_info": {
   "codemirror_mode": {
    "name": "ipython",
    "version": 3
   },
   "file_extension": ".py",
   "mimetype": "text/x-python",
   "name": "python",
   "nbconvert_exporter": "python",
   "pygments_lexer": "ipython3",
   "version": "3.9.7"
  }
 },
 "nbformat": 4,
 "nbformat_minor": 5
}

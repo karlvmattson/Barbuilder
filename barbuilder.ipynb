{
 "cells": [
  {
   "cell_type": "markdown",
   "id": "0089f082-912c-4df7-a007-6c873dfbf619",
   "metadata": {
    "tags": []
   },
   "source": [
    "# Barbuilder\n",
    "## An Interactive Cocktail Ingredient Recommendation System"
   ]
  },
  {
   "cell_type": "code",
   "execution_count": 76,
   "id": "449be6ba-dc47-4056-9f01-d1c36430fb77",
   "metadata": {
    "tags": []
   },
   "outputs": [],
   "source": [
    "import csv\n",
    "import pandas as pd\n",
    "import unidecode\n",
    "from bitarray import bitarray\n",
    "from sklearn.metrics.pairwise import cosine_similarity\n",
    "import matplotlib.pyplot as plt\n",
    "import ipywidgets as widgets\n",
    "from pathlib import Path\n",
    "import pickle"
   ]
  },
  {
   "cell_type": "markdown",
   "id": "27ea1a38-05ad-498d-96b7-936cdae617b1",
   "metadata": {
    "tags": []
   },
   "source": [
    "### File Locations"
   ]
  },
  {
   "cell_type": "code",
   "execution_count": 77,
   "id": "886ea60b-8509-4ab4-be88-65401a9999c5",
   "metadata": {
    "jupyter": {
     "source_hidden": true
    },
    "tags": []
   },
   "outputs": [],
   "source": [
    "processed_data = Path.cwd() / 'processed' / 'cosine_matrix.pickle'\n",
    "ingredient_data = Path.cwd() / 'processed' / 'ingredient_dict.pickle'"
   ]
  },
  {
   "cell_type": "markdown",
   "id": "a1f8e734-cd5b-4b27-a91d-33e1db4d11e6",
   "metadata": {},
   "source": [
    "## Load Data (Generate data if not found, can take several minutes on first run to download raw files)"
   ]
  },
  {
   "cell_type": "code",
   "execution_count": 78,
   "id": "fe815dae-6eb7-440c-bcdd-1e9cbc6a2dc4",
   "metadata": {},
   "outputs": [],
   "source": [
    "#  check if data already generated. If not, run data_processing.ipynb.\n",
    "try:\n",
    "    open(processed_data, mode='r', encoding='utf-8')\n",
    "    open(ingredient_data, mode='r', encoding='utf-8')\n",
    "except FileNotFoundError as err:\n",
    "    %run ./data_processing.ipynb\n",
    "\n",
    "\n",
    "#  load the data files\n",
    "with open(processed_data,'rb') as modelFile:\n",
    "     df_sims = pickle.load(modelFile)\n",
    "with open(ingredient_data,'rb') as modelFile:\n",
    "     ingredient_dict = pickle.load(modelFile)"
   ]
  },
  {
   "cell_type": "markdown",
   "id": "201ecbba-cd77-4f77-a905-79e17bf8a1a5",
   "metadata": {},
   "source": [
    "## MODEL"
   ]
  },
  {
   "cell_type": "code",
   "execution_count": null,
   "id": "bf2e769e-28be-4abc-b662-cdf9a895b39b",
   "metadata": {},
   "outputs": [],
   "source": []
  },
  {
   "cell_type": "markdown",
   "id": "ca5de7b1-9545-48b4-8775-1b39b9ecd811",
   "metadata": {},
   "source": [
    "## VIEW"
   ]
  },
  {
   "cell_type": "code",
   "execution_count": 154,
   "id": "d7233d64-da25-45ea-af1d-b32134f976eb",
   "metadata": {
    "tags": []
   },
   "outputs": [
    {
     "data": {
      "application/vnd.jupyter.widget-view+json": {
       "model_id": "bec2645e83584023ac8dba99a542c695",
       "version_major": 2,
       "version_minor": 0
      },
      "text/plain": [
       "VBox(children=(HTML(value='<center><h1>Barbuilder</h1></n><h3>Drink Ingredient Recommendation System</h3>'), H…"
      ]
     },
     "metadata": {},
     "output_type": "display_data"
    }
   ],
   "source": [
    "heat_map = plt.imshow(df_sims, cmap='hot', interpolation='nearest')\n",
    "out1 = Output()\n",
    "with out1:\n",
    "    plt.show()\n",
    "    #  display(heat_map.figure)\n",
    "\n",
    "#basic list box layout\n",
    "list_box_layout = widgets.Layout(height='400px')\n",
    "\n",
    "top_bar = widgets.HTML(\n",
    "    value=\"<center><h1>Barbuilder</h1></n><h3>Drink Ingredient Recommendation System</h3>\",\n",
    ")\n",
    "\n",
    "#set up ingredients window\n",
    "#search_box\n",
    "search_label = widgets.Label(value='Search:')\n",
    "search_box = widgets.Text(disabled=False,)\n",
    "\n",
    "#ingredient list\n",
    "ingredient_list = widgets.Select(options=ingredient_dict.keys(), layout=list_box_layout)\n",
    "\n",
    "#instruction text\n",
    "ingredient_instructions = Label(value='Click ingredients to add to your list of what you own.')\n",
    "\n",
    "#assemble ingredient window\n",
    "ingredient_window = VBox([search_label, search_box, ingredient_list, ingredient_instructions])\n",
    "\n",
    "\n",
    "#set up customer list window\n",
    "#customer window hbox\n",
    "customer_list_header = widgets.Label(value='Customer\\'s Ingredients')\n",
    "recipe_count_header = widgets.Label(value='Total Recipes Used In:')\n",
    "customer_header_hbox = widgets.HBox([customer_list_header, recipe_count_header])\n",
    "hidden_box = widgets.Text(layout=Layout(visibility='hidden'))\n",
    "customer_list = widgets.Select(layout=list_box_layout)\n",
    "customer_list_recipe_count = widgets.Select(layout=Layout(height='400px', width='30px'))\n",
    "customer_list_hbox = widgets.HBox([customer_list, customer_list_recipe_count])\n",
    "\n",
    "#instruction text\n",
    "customer_instructions = widgets.Text(description='Total: ', value='0', disabled=True, layout=Layout(width='50%'))\n",
    "\n",
    "#assemble customer list window\n",
    "customer_list_window = VBox([customer_header_hbox, hidden_box, customer_list_hbox, customer_instructions])\n",
    "\n",
    "\n",
    "#set up recommendation window\n",
    "#recommendation window hbox\n",
    "\n",
    "#instruction text\n",
    "\n",
    "#assemble recommendation window\n",
    "recommendation_window = VBox([])\n",
    "\n",
    "#assemble windows into main window\n",
    "main_window = HBox([ingredient_window, customer_list_window, recommendation_window])\n",
    "\n",
    "#set up anything that goes along the bottom of the UI\n",
    "bottom_bar = Label(\n",
    "    value='Instructions...',\n",
    ")\n",
    "\n",
    "#roll it all into a GUI\n",
    "gui = VBox([top_bar, main_window, bottom_bar])\n",
    "\n",
    "#load gui\n",
    "gui"
   ]
  },
  {
   "cell_type": "code",
   "execution_count": 107,
   "id": "3fb50a88-3ad4-45d4-bc6a-9c1517e55be7",
   "metadata": {
    "jupyter": {
     "source_hidden": true
    },
    "tags": []
   },
   "outputs": [],
   "source": [
    "items_layout = Layout( width='auto')     # override the default width of the button to 'auto' to let the button grow\n",
    "\n",
    "box_layout = Layout(display='flex',\n",
    "                    flex_flow='column',\n",
    "                    align_items='stretch',\n",
    "                    border='solid',\n",
    "                    width='50%')\n",
    "\n",
    "words = ['correct', 'horse', 'battery', 'staple']\n",
    "items = [Button(description=word, layout=items_layout, button_style='danger') for word in words]\n",
    "box = Box(children=items, layout=box_layout)\n",
    "box2 = Box(children=[out1], layout=box_layout)\n",
    "# gui = VBox([box, box2])"
   ]
  },
  {
   "cell_type": "markdown",
   "id": "989d2017-7ccc-4cda-9570-74a90d4a75ef",
   "metadata": {
    "jupyter": {
     "source_hidden": true
    },
    "tags": []
   },
   "source": [
    "## CONTROLLER"
   ]
  },
  {
   "cell_type": "code",
   "execution_count": null,
   "id": "b65dc781-dbe1-4ae5-addb-714672140a1b",
   "metadata": {
    "jupyter": {
     "source_hidden": true
    },
    "tags": []
   },
   "outputs": [],
   "source": []
  },
  {
   "cell_type": "markdown",
   "id": "8aac5f5b-6104-4aea-a107-7e48a71264f8",
   "metadata": {
    "jupyter": {
     "source_hidden": true
    },
    "tags": []
   },
   "source": [
    "## Initiate GUI"
   ]
  },
  {
   "cell_type": "code",
   "execution_count": 108,
   "id": "1aaeb62d-fe23-4133-819d-839cdb66ce93",
   "metadata": {
    "collapsed": true,
    "jupyter": {
     "outputs_hidden": true,
     "source_hidden": true
    },
    "tags": []
   },
   "outputs": [
    {
     "data": {
      "application/vnd.jupyter.widget-view+json": {
       "model_id": "d49ddd1484ed41bf9638b0e09504d6ff",
       "version_major": 2,
       "version_minor": 0
      },
      "text/plain": [
       "VBox(children=(HTML(value='<center><h1>Barbuilder</h1></n><h3>Drink Ingredient Recommendation System</h3>'), H…"
      ]
     },
     "metadata": {},
     "output_type": "display_data"
    }
   ],
   "source": [
    "gui"
   ]
  },
  {
   "cell_type": "code",
   "execution_count": null,
   "id": "abb2054e-f91e-44ad-934b-1582f9041fd9",
   "metadata": {
    "jupyter": {
     "source_hidden": true
    },
    "tags": []
   },
   "outputs": [],
   "source": []
  },
  {
   "cell_type": "code",
   "execution_count": 82,
   "id": "109abf77-b5e2-44b7-80c0-5c5c25cf54e9",
   "metadata": {
    "collapsed": true,
    "jupyter": {
     "outputs_hidden": true,
     "source_hidden": true
    },
    "tags": []
   },
   "outputs": [
    {
     "data": {
      "application/vnd.jupyter.widget-view+json": {
       "model_id": "52a475b6e2a442c29f98b02bc318badf",
       "version_major": 2,
       "version_minor": 0
      },
      "text/plain": [
       "HBox(children=(VBox(children=(IntSlider(value=0, description='a'), IntSlider(value=0, description='b'), IntSli…"
      ]
     },
     "metadata": {},
     "output_type": "display_data"
    }
   ],
   "source": [
    "a = widgets.IntSlider(description='a')\n",
    "b = widgets.IntSlider(description='b')\n",
    "c = widgets.IntSlider(description='c')\n",
    "def f(a, b, c):\n",
    "    print('{}*{}*{}={}'.format(a, b, c, a*b*c))\n",
    "\n",
    "out = widgets.interactive_output(f, {'a': a, 'b': b, 'c': c})\n",
    "\n",
    "widgets.HBox([widgets.VBox([a, b, c]), out])"
   ]
  }
 ],
 "metadata": {
  "kernelspec": {
   "display_name": "Python 3 (ipykernel)",
   "language": "python",
   "name": "python3"
  },
  "language_info": {
   "codemirror_mode": {
    "name": "ipython",
    "version": 3
   },
   "file_extension": ".py",
   "mimetype": "text/x-python",
   "name": "python",
   "nbconvert_exporter": "python",
   "pygments_lexer": "ipython3",
   "version": "3.9.7"
  }
 },
 "nbformat": 4,
 "nbformat_minor": 5
}

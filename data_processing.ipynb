{
 "cells": [
  {
   "cell_type": "markdown",
   "id": "15f3ae90-d1fc-46a1-992a-7e00404c817e",
   "metadata": {},
   "source": [
    "# Machine Learning Section\n",
    "## Generates dataset using Cosine Similarity and stores to a pickle file.\n",
    "Should already have csv files stored in the rawdata folder. If not, this notebook will run data_download.ipynb which can take several minutes."
   ]
  },
  {
   "cell_type": "code",
   "execution_count": 10,
   "id": "251ad9a1-84e2-4016-93ca-b6f9f61cad7c",
   "metadata": {},
   "outputs": [],
   "source": [
    "import csv\n",
    "import pandas as pd\n",
    "import unidecode\n",
    "from bitarray import bitarray\n",
    "import pickle\n",
    "from sklearn.metrics.pairwise import cosine_similarity\n",
    "from pathlib import Path"
   ]
  },
  {
   "cell_type": "markdown",
   "id": "b91961e0-09be-41d5-a622-454ecc919cad",
   "metadata": {},
   "source": [
    "### File Locations"
   ]
  },
  {
   "cell_type": "code",
   "execution_count": 11,
   "id": "28c07f22-825b-47f6-ba39-ac85d8b54a67",
   "metadata": {},
   "outputs": [],
   "source": [
    "import_location = \"rawdata\"\n",
    "save_location = \"processed\""
   ]
  },
  {
   "cell_type": "markdown",
   "id": "c814815d-108e-4a9b-9db4-eaefff6db5b2",
   "metadata": {},
   "source": [
    "# This cell will generate the recommendation matrix using Cosine Similarity.\n",
    "## It first checks to see if the source data is located in /rawdata and, if not, calls data_download.ipynb to download it. THIS TAKES SEVERAL MINUTES.\n",
    "\n",
    "## If the data is found, it loads the CSV files into memory and performs data transforms on the tables. Then, the training algorithm is run on the resulting data."
   ]
  },
  {
   "cell_type": "code",
   "execution_count": 12,
   "id": "bc7b3d92-0578-4b99-af54-53174b9cb1b2",
   "metadata": {},
   "outputs": [],
   "source": [
    "def check_files():\n",
    "    try:\n",
    "        location = Path.cwd() / import_location / 'alcoholic_full.csv'\n",
    "        open(location, mode='r', encoding='utf-8')\n",
    "        location = Path.cwd() / import_location / 'ingredients.csv'\n",
    "        open(location, mode='r', encoding='utf-8')\n",
    "    except FileNotFoundError as err:\n",
    "        %run ./data_download.ipynb\n",
    "\n",
    "\n",
    "#  Load alcoholic drink recipe CSV into dict\n",
    "check_files() # makes sure the files exist and downloads them if not.\n",
    "location = Path.cwd() / import_location / 'alcoholic_full.csv'\n",
    "with open(location, mode='r', encoding='utf-8') as infile:\n",
    "    reader = csv.reader(infile)\n",
    "    array_headers = []\n",
    "    alcoholic_recipe_list = []\n",
    "    alcoholic_recipe_dict = {}\n",
    "    next(reader, None)\n",
    "\n",
    "    for row in reader:\n",
    "        array_headers.append(row[1])\n",
    "        alcoholic_recipe_dict[row[1]] = row[17:32]\n",
    "        alcoholic_recipe_list.append(row[17:32])\n",
    "    # print(str(len(alcoholic_recipe_dict)) + \" recipes loaded!\")\n",
    "\n",
    "#  Load ingredient CSV into list\n",
    "location = Path.cwd() / import_location / 'ingredients.csv'\n",
    "with open(location, mode='r', encoding='utf-8') as infile:\n",
    "    reader = csv.reader(infile)\n",
    "    ingredientlist = []\n",
    "    next(reader, None)\n",
    "    for row in reader:\n",
    "        ingredientlist.append(unidecode.unidecode(row[0].lower().strip()))\n",
    "    # print(str(len(ingredientlist)) + \" ingredients loaded! Processing...\")\n",
    "\n",
    "#  Create new dict with ingredients\n",
    "alcoholic_drink_dict = {}\n",
    "for ingredient in ingredientlist:\n",
    "    emptyarray = bitarray(len(alcoholic_recipe_dict))\n",
    "    emptyarray.setall(0)\n",
    "    alcoholic_drink_dict[ingredient] = emptyarray\n",
    "\n",
    "#  Set flags for each recipe per ingredient.\n",
    "for r in range(0, len(alcoholic_recipe_list)):\n",
    "    recipe = alcoholic_recipe_list[r]\n",
    "    for ingredient in recipe:\n",
    "        if ingredient == 'Bailey':\n",
    "            ingredient = 'baileys irish cream'\n",
    "        else:\n",
    "            ingredient = unidecode.unidecode(ingredient.strip().lower())\n",
    "        if len(ingredient) > 0:\n",
    "            current_array = alcoholic_drink_dict[ingredient]\n",
    "            current_array[r] = 1\n",
    "            alcoholic_drink_dict[ingredient] = current_array\n",
    "\n",
    "#  Build prune list for unused ingredients\n",
    "unused_ingredients = []\n",
    "for i in alcoholic_drink_dict.keys():\n",
    "    if alcoholic_drink_dict[i].count(1) == 0:\n",
    "        unused_ingredients.append(i)\n",
    "\n",
    "#  Prune unused ingredients\n",
    "for i in unused_ingredients:\n",
    "    del alcoholic_drink_dict[i]\n",
    "\n",
    "#  Build dataframe of recipes by ingredient\n",
    "data = {}\n",
    "for a in array_headers:\n",
    "    data[a] = []\n",
    "indexes = []\n",
    "for i in alcoholic_drink_dict.keys():\n",
    "    indexes.append(i)\n",
    "    for a in range(len(array_headers)):\n",
    "        data[array_headers[a]].append(alcoholic_drink_dict[i][a])\n",
    "df = pd.DataFrame(data, index=indexes)\n",
    "\n",
    "ingredient_matrix = cosine_similarity(df)\n",
    "df_sims = pd.DataFrame(ingredient_matrix, df.index)\n",
    "df_sims.columns = df.index\n",
    "\n",
    "# Save the resulting data for later use.\n",
    "location = Path.cwd() / save_location / 'cosine_matrix.pickle'\n",
    "with open(location,'wb') as modelFile:\n",
    "    pickle.dump(df_sims, modelFile)\n",
    "location = Path.cwd() / save_location / 'ingredient_dict.pickle'\n",
    "with open(location,'wb') as modelFile:\n",
    "    pickle.dump(df, modelFile)\n",
    "location = Path.cwd() / save_location / 'recipe_dict.pickle'\n",
    "with open(location,'wb') as modelFile:\n",
    "    pickle.dump(alcoholic_recipe_dict, modelFile)"
   ]
  },
  {
   "cell_type": "code",
   "execution_count": null,
   "id": "e73978cb-9449-4be1-9f55-d2c5d96a1a84",
   "metadata": {},
   "outputs": [],
   "source": []
  }
 ],
 "metadata": {
  "kernelspec": {
   "display_name": "Python 3 (ipykernel)",
   "language": "python",
   "name": "python3"
  },
  "language_info": {
   "codemirror_mode": {
    "name": "ipython",
    "version": 3
   },
   "file_extension": ".py",
   "mimetype": "text/x-python",
   "name": "python",
   "nbconvert_exporter": "python",
   "pygments_lexer": "ipython3",
   "version": "3.9.7"
  }
 },
 "nbformat": 4,
 "nbformat_minor": 5
}

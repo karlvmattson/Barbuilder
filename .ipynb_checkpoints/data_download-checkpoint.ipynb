{
 "cells": [
  {
   "cell_type": "markdown",
   "id": "e90e5958-bcd5-4291-bd38-14981b30c6bb",
   "metadata": {},
   "source": [
    "# Drink Import Program\n",
    "## Loads data from www.thecocktaildb.com and converts it to CSV."
   ]
  },
  {
   "cell_type": "code",
   "execution_count": 7,
   "id": "2becb772-004f-4674-95a3-553415e6b506",
   "metadata": {},
   "outputs": [],
   "source": [
    "import json\n",
    "import csv\n",
    "import urllib.request\n",
    "import unidecode\n",
    "from pathlib import Path"
   ]
  },
  {
   "cell_type": "markdown",
   "id": "cee6a46f-9c39-4306-baef-520a865cc648",
   "metadata": {},
   "source": [
    "### File Locations"
   ]
  },
  {
   "cell_type": "code",
   "execution_count": 8,
   "id": "38f0d7f2-412f-4823-9789-e0be286eafc9",
   "metadata": {},
   "outputs": [],
   "source": [
    "save_location = \"rawdata\""
   ]
  },
  {
   "cell_type": "markdown",
   "id": "952e9841-6421-437b-b63b-905d771cbeb3",
   "metadata": {},
   "source": [
    "### API Functions"
   ]
  },
  {
   "cell_type": "code",
   "execution_count": 9,
   "id": "0d6ef94d-c135-41a9-871e-adc974fe8001",
   "metadata": {},
   "outputs": [],
   "source": [
    "def get_drink_dict(apicall):\n",
    "    with urllib.request.urlopen(apicall) as url:\n",
    "        my_dict = json.loads(url.read().decode())\n",
    "        print(my_dict['drinks'])\n",
    "        return my_dict;\n",
    "\n",
    "\n",
    "def create_csv_simple(apicall, csvname):\n",
    "    my_dict = get_drink_dict(apicall)\n",
    "    outpath = Path.cwd() / save_location / csvname\n",
    "    with open(outpath, 'w', newline='', encoding='utf-8') as f:\n",
    "        w = csv.DictWriter(f, my_dict['drinks'][0].keys())\n",
    "        w.writeheader()\n",
    "        w.writerows(my_dict['drinks'])\n",
    "        return my_dict;\n",
    "\n",
    "\n",
    "def get_all_recipes(apicall, csvname, mydict):\n",
    "    outpath = Path.cwd() / save_location / csvname\n",
    "    with open(outpath, 'w', newline='', encoding='utf-8') as f:\n",
    "\n",
    "        with urllib.request.urlopen(apicall + str(mydict['drinks'][0]['idDrink'])) as url:\n",
    "            single_drink = json.loads(url.read().decode())\n",
    "        w = csv.writer(f, delimiter=',', quotechar='\"', quoting=csv.QUOTE_MINIMAL)\n",
    "        w.writerow(single_drink['drinks'][0].keys())\n",
    "\n",
    "        for drink in mydict['drinks']:\n",
    "            with urllib.request.urlopen(apicall + str(drink['idDrink'])) as url:\n",
    "                single_drink = json.loads(url.read().decode())\n",
    "                print(single_drink['drinks'])\n",
    "                w.writerow(single_drink['drinks'][0].values());"
   ]
  },
  {
   "cell_type": "markdown",
   "id": "ca1b5b71-4b4d-4c8f-ba70-1661210979fb",
   "metadata": {},
   "source": [
    "### Data Import\n",
    "## THIS TAKES A LONG TIME TO RUN! DO NOT RUN UNLESS MODIFYING OR REBUILDING FROM SCRATCH!\n",
    "The following cell will download all of the data from www.thecocktaildb.com one recipe at a time. The API only allows for full recipe details on a single drink at a time."
   ]
  },
  {
   "cell_type": "code",
   "execution_count": 12,
   "id": "6a0890f1-c75d-4e4a-ad03-9308a547a843",
   "metadata": {},
   "outputs": [],
   "source": [
    "%%capture\n",
    "# Load ingredient list\n",
    "apicall = \"https://www.thecocktaildb.com/api/json/v2/9973533/list.php?i=list\"\n",
    "csvname = 'ingredients.csv'\n",
    "create_csv_simple(apicall, csvname);\n",
    "\n",
    "# Load popular drinks\n",
    "apicall = \"https://www.thecocktaildb.com/api/json/v2/9973533/popular.php\"\n",
    "csvname = 'popular.csv'\n",
    "create_csv_simple(apicall, csvname);\n",
    "\n",
    "# Load recently added drinks\n",
    "apicall = \"https://www.thecocktaildb.com/api/json/v2/9973533/recent.php\"\n",
    "csvname = 'recent.csv'\n",
    "create_csv_simple(apicall, csvname);\n",
    "\n",
    "# Load alcoholic drinks\n",
    "apicall = \"https://www.thecocktaildb.com/api/json/v2/9973533/filter.php?a=Alcoholic\"\n",
    "csvname = 'alcoholic.csv'\n",
    "my_dict = create_csv_simple(apicall, csvname);  # Save dictionary for use on full list of recipes\n",
    "\n",
    "# Build the large table of all alcoholic recipes\n",
    "apicall = \"https://www.thecocktaildb.com/api/json/v2/9973533/lookup.php?i=\"\n",
    "csvname = 'alcoholic_full.csv'\n",
    "get_all_recipes(apicall, csvname, my_dict);\n",
    "\n",
    "# Load non-alcoholic drinks\n",
    "apicall = \"https://www.thecocktaildb.com/api/json/v2/9973533/filter.php?a=Non_Alcoholic\"\n",
    "csvname = 'non-alcoholic.csv'\n",
    "my_dict = create_csv_simple(apicall, csvname);  # Save dictionary for use on full list of recipes\n",
    "\n",
    "# Build the large table of all non-alcoholic recipes\n",
    "apicall = \"https://www.thecocktaildb.com/api/json/v2/9973533/lookup.php?i=\"\n",
    "csvname = 'non-alcoholic_full.csv'\n",
    "get_all_recipes(apicall, csvname, my_dict);\n"
   ]
  },
  {
   "cell_type": "code",
   "execution_count": null,
   "id": "ea733ecf-87a4-4e5c-851a-6529e705de7e",
   "metadata": {},
   "outputs": [],
   "source": []
  }
 ],
 "metadata": {
  "kernelspec": {
   "display_name": "Python 3 (ipykernel)",
   "language": "python",
   "name": "python3"
  },
  "language_info": {
   "codemirror_mode": {
    "name": "ipython",
    "version": 3
   },
   "file_extension": ".py",
   "mimetype": "text/x-python",
   "name": "python",
   "nbconvert_exporter": "python",
   "pygments_lexer": "ipython3",
   "version": "3.9.7"
  }
 },
 "nbformat": 4,
 "nbformat_minor": 5
}
